{
 "cells": [
  {
   "cell_type": "markdown",
   "metadata": {},
   "source": [
    "Funções Principais"
   ]
  },
  {
   "cell_type": "code",
   "execution_count": 1,
   "metadata": {},
   "outputs": [
    {
     "name": "stdout",
     "output_type": "stream",
     "text": [
      "200\n",
      "Maior valor:  5\n",
      "Menor valor:  1\n",
      "Soma:  15\n",
      "Arrendondamento:  2.35\n"
     ]
    }
   ],
   "source": [
    "#Funções Internas\n",
    "print(abs(-200))\n",
    "lst = [1,2,3,4,5]\n",
    "print(\"Maior valor: \", max(lst))\n",
    "print(\"Menor valor: \", min(lst))\n",
    "print(\"Soma: \", sum(lst))\n",
    "print(\"Arrendondamento: \", round(2.34567,2))"
   ]
  },
  {
   "cell_type": "code",
   "execution_count": 2,
   "metadata": {},
   "outputs": [
    {
     "name": "stdout",
     "output_type": "stream",
     "text": [
      "Média:  3\n",
      "Mediana:  3\n",
      "Moda:  1\n"
     ]
    }
   ],
   "source": [
    "#Estatística\n",
    "from statistics import *\n",
    "print(\"Média: \", mean(lst))\n",
    "print(\"Mediana: \", median(lst))\n",
    "print(\"Moda: \", mode(lst))"
   ]
  },
  {
   "cell_type": "code",
   "execution_count": 3,
   "metadata": {},
   "outputs": [
    {
     "name": "stdout",
     "output_type": "stream",
     "text": [
      "Desvio Padrão:  1.5811388300841898\n"
     ]
    }
   ],
   "source": [
    "#Desvio Padrão da Amostra\n",
    "print(\"Desvio Padrão: \", stdev(lst))"
   ]
  },
  {
   "cell_type": "code",
   "execution_count": 4,
   "metadata": {},
   "outputs": [
    {
     "name": "stdout",
     "output_type": "stream",
     "text": [
      "Variância:  2.5\n"
     ]
    }
   ],
   "source": [
    "#Variância da Amostra\n",
    "print(\"Variância: \", variance(lst))"
   ]
  },
  {
   "cell_type": "code",
   "execution_count": 5,
   "metadata": {},
   "outputs": [
    {
     "name": "stdout",
     "output_type": "stream",
     "text": [
      "<class 'numpy.ndarray'>\n",
      "[[0.15579029 0.74387921 0.21538388 0.07769317 0.50587234 0.53683699\n",
      "  0.83903628 0.28706461]\n",
      " [0.33939458 0.68315734 0.66492378 0.87120223 0.8047849  0.48120872\n",
      "  0.16147379 0.71725396]\n",
      " [0.29248293 0.93866808 0.60246473 0.78016443 0.8890972  0.90823342\n",
      "  0.96101348 0.76511721]\n",
      " [0.3263806  0.28594175 0.13193134 0.99505931 0.12750198 0.7127836\n",
      "  0.8605146  0.95828125]\n",
      " [0.84048665 0.36936178 0.68834269 0.90624028 0.59385371 0.81635784\n",
      "  0.9172647  0.75695153]\n",
      " [0.8493135  0.59769854 0.67625265 0.10138539 0.56961555 0.22377537\n",
      "  0.5243993  0.05816213]\n",
      " [0.79572945 0.85000999 0.15942202 0.53396547 0.57745039 0.34351059\n",
      "  0.40401155 0.40552758]\n",
      " [0.18314055 0.92315274 0.04883075 0.1751097  0.60194985 0.32973603\n",
      "  0.42250988 0.90312968]]\n"
     ]
    }
   ],
   "source": [
    "from numpy import *\n",
    "a = random.random((8,8))\n",
    "print(type(a))\n",
    "print(a)"
   ]
  }
 ],
 "metadata": {
  "kernelspec": {
   "display_name": "Python 3",
   "language": "python",
   "name": "python3"
  },
  "language_info": {
   "codemirror_mode": {
    "name": "ipython",
    "version": 3
   },
   "file_extension": ".py",
   "mimetype": "text/x-python",
   "name": "python",
   "nbconvert_exporter": "python",
   "pygments_lexer": "ipython3",
   "version": "3.12.4"
  }
 },
 "nbformat": 4,
 "nbformat_minor": 2
}
