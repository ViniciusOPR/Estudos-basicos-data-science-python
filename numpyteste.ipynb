{
 "cells": [
  {
   "cell_type": "markdown",
   "metadata": {},
   "source": [
    "Numpy"
   ]
  },
  {
   "cell_type": "code",
   "execution_count": 2,
   "metadata": {},
   "outputs": [],
   "source": [
    "import numpy as np"
   ]
  },
  {
   "cell_type": "code",
   "execution_count": 3,
   "metadata": {},
   "outputs": [
    {
     "name": "stdout",
     "output_type": "stream",
     "text": [
      "[12 34 26 18 10]\n",
      "<class 'numpy.ndarray'>\n"
     ]
    }
   ],
   "source": [
    "#Cria uma matriz unidimensional\n",
    "mt = np.array([12,34,26,18,10])\n",
    "print(mt)\n",
    "print(type(mt))"
   ]
  },
  {
   "cell_type": "code",
   "execution_count": 4,
   "metadata": {},
   "outputs": [
    {
     "name": "stdout",
     "output_type": "stream",
     "text": [
      "[1. 2. 3.]\n",
      "<class 'numpy.ndarray'>\n",
      "[1 2 3]\n",
      "<class 'numpy.ndarray'>\n"
     ]
    }
   ],
   "source": [
    "#Criar o array com um tipo especifico - como float de 64 bits e depois como int de 32 bits\n",
    "mtfloat = np.array([1, 2, 3], dtype= np.float64)\n",
    "print(mtfloat)\n",
    "print(type(mtfloat))\n",
    "mtint = np.array([1, 2, 3], dtype= np.int32)\n",
    "print(mtint)\n",
    "print(type(mtint))"
   ]
  },
  {
   "cell_type": "code",
   "execution_count": 5,
   "metadata": {},
   "outputs": [
    {
     "name": "stdout",
     "output_type": "stream",
     "text": [
      "[ 1.4       3.6      -5.1       9.42      4.999999]\n",
      "[ 1  3 -5  9  4]\n"
     ]
    }
   ],
   "source": [
    "#Mudar o tipo do Array - Podemos transformar tipos de dados de arrays\n",
    "mtnew = np.array([1.4, 3.6, -5.1, 9.42, 4.999999])\n",
    "print(mtnew)\n",
    "#Quando transformamos de float para int os valores são truncados\n",
    "mtnewint = mtnew.astype(np.int32)\n",
    "print(mtnewint)"
   ]
  },
  {
   "cell_type": "code",
   "execution_count": 6,
   "metadata": {},
   "outputs": [
    {
     "name": "stdout",
     "output_type": "stream",
     "text": [
      "[1 2 3 4]\n",
      "[1. 2. 3. 4.]\n"
     ]
    }
   ],
   "source": [
    "#Fazendo o Inverso também\n",
    "mt5 = np.array([1, 2, 3, 4])\n",
    "print(mt5)\n",
    "mt6 = mt5.astype(float)\n",
    "print(mt6)"
   ]
  },
  {
   "cell_type": "code",
   "execution_count": 7,
   "metadata": {},
   "outputs": [
    {
     "name": "stdout",
     "output_type": "stream",
     "text": [
      "[[ 7  2 23]\n",
      " [12 27  4]\n",
      " [ 5 34 23]]\n"
     ]
    }
   ],
   "source": [
    "#Criando um array bidimensional\n",
    "mt7 = np.array([[7,2,23], [12,27,4], [5,34,23]])\n",
    "print(mt7)"
   ]
  },
  {
   "cell_type": "code",
   "execution_count": 8,
   "metadata": {},
   "outputs": [
    {
     "name": "stdout",
     "output_type": "stream",
     "text": [
      "[[3403141796824350720                1720]\n",
      " [                  0       1674877900224]\n",
      " [                  0   14636698789019905]]\n",
      "-----------\n",
      "[[0. 0. 0.]\n",
      " [0. 0. 0.]\n",
      " [0. 0. 0.]\n",
      " [0. 0. 0.]]\n",
      "----------\n",
      "[[1. 1. 1. 1. 1. 1. 1.]\n",
      " [1. 1. 1. 1. 1. 1. 1.]\n",
      " [1. 1. 1. 1. 1. 1. 1.]\n",
      " [1. 1. 1. 1. 1. 1. 1.]\n",
      " [1. 1. 1. 1. 1. 1. 1.]]\n",
      "------------\n",
      "[[1. 0. 0. 0. 0.]\n",
      " [0. 1. 0. 0. 0.]\n",
      " [0. 0. 1. 0. 0.]\n",
      " [0. 0. 0. 1. 0.]\n",
      " [0. 0. 0. 0. 1.]]\n"
     ]
    }
   ],
   "source": [
    "#Criar arrays vazios tipificados - Empty significa que não são diferenciados, não que são vazios\n",
    "vazio = np.empty([3,2], dtype= int)\n",
    "print(vazio)\n",
    "print(\"-----------\")\n",
    "#Cria uma matriz 4x3 com valores zero\n",
    "zeros = np.zeros([4,3])\n",
    "print(zeros)\n",
    "print(\"----------\")\n",
    "#Com valores igual a um\n",
    "um = np.ones([5,7])\n",
    "print(um)\n",
    "print(\"------------\")\n",
    "#Cria Matriz quadrada com diagonal principal com valores 1 e os outros valores Zero\n",
    "diagonal = np.eye(5)\n",
    "print(diagonal)"
   ]
  },
  {
   "cell_type": "code",
   "execution_count": 9,
   "metadata": {},
   "outputs": [
    {
     "name": "stdout",
     "output_type": "stream",
     "text": [
      "[0.00598448 0.92847082 0.10394634 0.13815375 0.86930576]\n",
      "------------\n",
      "[ 0.53755454 -0.58320699 -0.81167164 -0.18071494 -0.06660896]\n",
      "-------------\n",
      "[[1.69314094 2.30390088 9.47058505 2.81307572]\n",
      " [6.61738794 3.59178986 3.11225993 8.77976542]\n",
      " [3.11528063 9.01761758 3.5017591  7.05179392]]\n"
     ]
    }
   ],
   "source": [
    "#Valores aleatórios entre zero e um\n",
    "ale = np.random.random((5))\n",
    "print(ale)\n",
    "print(\"------------\")\n",
    "#Valores aleatórios distr. normal contendo negativos\n",
    "ale2 = np.random.randn((5))\n",
    "print(ale2)\n",
    "print(\"-------------\")\n",
    "#Valores aleatórios 3 x 4\n",
    "ale3 = (10*np.random.random((3,4)))\n",
    "print(ale3)"
   ]
  },
  {
   "cell_type": "code",
   "execution_count": 10,
   "metadata": {},
   "outputs": [
    {
     "name": "stdout",
     "output_type": "stream",
     "text": [
      "[0.51182162 0.9504637  0.14415961]\n",
      "[[8 9 2 3]\n",
      " [8 4 2 8]\n",
      " [2 4 6 5]]\n"
     ]
    }
   ],
   "source": [
    "#Outra forma de gerar aleatórios - Uso de Semente\n",
    "gnr = np.random.default_rng(1)\n",
    "ale5 = gnr.random(3)\n",
    "print(ale5)\n",
    "#Gerar inteiros\n",
    "ale6 = gnr.integers(10, size=(3, 4))\n",
    "print(ale6)"
   ]
  },
  {
   "cell_type": "code",
   "execution_count": 11,
   "metadata": {},
   "outputs": [
    {
     "name": "stdout",
     "output_type": "stream",
     "text": [
      "[11 12 13 14 15 16 17 18 19 20]\n"
     ]
    }
   ],
   "source": [
    "#UNIQUE - remove repetições\n",
    "j = np.array([11, 12, 13, 14, 15, 16, 16, 17, 17, 12, 18, 19, 20])\n",
    "j = np.unique(j)\n",
    "print(j)"
   ]
  },
  {
   "cell_type": "code",
   "execution_count": 12,
   "metadata": {},
   "outputs": [
    {
     "name": "stdout",
     "output_type": "stream",
     "text": [
      "[[17 22 43]\n",
      " [27 25 14]\n",
      " [15 24 32]]\n",
      "22\n",
      "(3, 3)\n"
     ]
    }
   ],
   "source": [
    "#Funções Específicas - Cria a Matriz Bidimensional k\n",
    "k = np.array([[17,22,43], [27,25,14], [15,24,32]])\n",
    "print(k)\n",
    "#Mostrando um elemento de k\n",
    "print(k[0][1])\n",
    "#Mostrando o tamanho das dimensões de k\n",
    "print(k.shape)"
   ]
  },
  {
   "cell_type": "code",
   "execution_count": 13,
   "metadata": {},
   "outputs": [
    {
     "name": "stdout",
     "output_type": "stream",
     "text": [
      "43\n",
      "14\n",
      "219\n",
      "24.333333333333332\n",
      "8.615231988880057\n"
     ]
    }
   ],
   "source": [
    "#Funções Matemáticas\n",
    "#Mostra o maior valor de k\n",
    "print(k.max())\n",
    "#Mostra o menor valor de k\n",
    "print(k.min())\n",
    "#Mostra a soma dos valores de k\n",
    "print((k.sum()))\n",
    "#Mostra o valor da média dos valores de k\n",
    "print(k.mean())\n",
    "#Mostra o valor do desvio padrão (standard deviation) dos valores de k\n",
    "print(k.std())"
   ]
  },
  {
   "cell_type": "code",
   "execution_count": 14,
   "metadata": {},
   "outputs": [
    {
     "name": "stdout",
     "output_type": "stream",
     "text": [
      "[1. 2. 3. 4. 5. 6.]\n",
      "[2.71828183e+00 5.45981500e+01 8.10308393e+03 8.88611052e+06\n",
      " 7.20048993e+10 4.31123155e+15]\n"
     ]
    }
   ],
   "source": [
    "#Funções Universais - Aplicadas a todos os Elementos\n",
    "#Raiz Quadrada de todos os elementos\n",
    "k1 = np.array([1, 4, 9, 16, 25, 36])\n",
    "print(np.sqrt(k1))\n",
    "#Exponencial de todos os elementos\n",
    "print(np.exp(k1))"
   ]
  },
  {
   "cell_type": "code",
   "execution_count": 15,
   "metadata": {},
   "outputs": [
    {
     "name": "stdout",
     "output_type": "stream",
     "text": [
      "2\n",
      "------------\n",
      "[1 2]\n",
      "--------------\n",
      "[2 3 4 5 6]\n",
      "------------\n",
      "[4 5 6]\n"
     ]
    }
   ],
   "source": [
    "#Extração de elementos\n",
    "m = np.array([1, 2, 3, 4, 5, 6])\n",
    "# Mostra o elemento da Posição 2\n",
    "print(m[1])\n",
    "print(\"------------\")\n",
    "# Mostra o array criado a partir da posição 0, dois elementos\n",
    "print(m[0:2])\n",
    "print(\"--------------\")\n",
    "# Mostra o array criado a partir da segunda posição - até todo o restante do array\n",
    "print(m[1:])\n",
    "print(\"------------\")\n",
    "# Mostra o array criado a partir da antepenúltima posição até o final\n",
    "print(m[-3:])"
   ]
  },
  {
   "cell_type": "code",
   "execution_count": 16,
   "metadata": {},
   "outputs": [
    {
     "name": "stdout",
     "output_type": "stream",
     "text": [
      "[[4 5]\n",
      " [6 1]\n",
      " [7 4]]\n",
      "---------\n",
      "[4 5]\n",
      "-------------\n",
      "[6 1]\n",
      "----------\n",
      "[7 4]\n",
      "--------------\n",
      "[4 6 7]\n",
      "-------------\n",
      "[5 1 4]\n"
     ]
    }
   ],
   "source": [
    "#Extração de Linhas e Colunas\n",
    "l = np.array([[4, 5], [6, 1], [7, 4]])\n",
    "print(l)\n",
    "print(\"---------\")\n",
    "#Primeira Linha, todas as colunas\n",
    "l_linha1 = l[0, :]\n",
    "print(l_linha1)\n",
    "print(\"-------------\")\n",
    "#Segunda Linha\n",
    "l_linha2 = l[1, :]\n",
    "print(l_linha2)\n",
    "print(\"----------\")\n",
    "#Terceira Linha\n",
    "l_linha3 = l[2, :]\n",
    "print(l_linha3)\n",
    "print(\"--------------\")\n",
    "#Todas as linhas, primeira coluna\n",
    "l_coluna1 = l[:, 0]\n",
    "print(l_coluna1)\n",
    "print(\"-------------\")\n",
    "#Todas as linhas, segunda coluna\n",
    "l_coluna2 = l[:, 1]\n",
    "print(l_coluna2)"
   ]
  },
  {
   "cell_type": "code",
   "execution_count": 17,
   "metadata": {},
   "outputs": [
    {
     "name": "stdout",
     "output_type": "stream",
     "text": [
      "[[2 3]\n",
      " [4 5]]\n",
      "-----------\n",
      "[[1 2]\n",
      " [3 4]]\n",
      "------------\n",
      "[[3 3]\n",
      " [5 5]\n",
      " [7 7]]\n"
     ]
    }
   ],
   "source": [
    "#Adição e Multiplicação de Matrizes\n",
    "n = np.array([[1, 2], [3, 4]])\n",
    "o = np.array([[1, 1], [1, 1]])\n",
    "res1 = n+o\n",
    "print(res1)\n",
    "print(\"-----------\")\n",
    "res2 = n*o\n",
    "print(res2)\n",
    "print(\"------------\")\n",
    "p = np.array([[1, 2], [3, 4], [5, 6]])\n",
    "q = np.array([[2, 1]])\n",
    "print(p+q)"
   ]
  },
  {
   "cell_type": "code",
   "execution_count": 18,
   "metadata": {},
   "outputs": [
    {
     "name": "stdout",
     "output_type": "stream",
     "text": [
      "[[ 0  1  2  3  4]\n",
      " [ 5  6  7  8  9]\n",
      " [10 11 12 13 14]]\n",
      "------\n",
      "[[ 0  5 10]\n",
      " [ 1  6 11]\n",
      " [ 2  7 12]\n",
      " [ 3  8 13]\n",
      " [ 4  9 14]]\n"
     ]
    }
   ],
   "source": [
    "#Transposição - Rearranja um conjunto de 15 elementos de 0 a 14 em 3 linhas e 5 colunas\n",
    "f = np.arange(15).reshape((3, 5))\n",
    "print(f)\n",
    "print(\"------\")\n",
    "s = f.T\n",
    "print(s)"
   ]
  },
  {
   "cell_type": "code",
   "execution_count": 19,
   "metadata": {},
   "outputs": [
    {
     "name": "stdout",
     "output_type": "stream",
     "text": [
      "[[ 0  1  2  3  4]\n",
      " [ 5  6  7  8  9]\n",
      " [10 11 12 13 14]]\n",
      "-------\n",
      "[[ 0  5 10]\n",
      " [ 1  6 11]\n",
      " [ 2  7 12]\n",
      " [ 3  8 13]\n",
      " [ 4  9 14]]\n"
     ]
    }
   ],
   "source": [
    "#Outro modo\n",
    "r = np.arange(15).reshape((3, 5))\n",
    "print(r)\n",
    "print(\"-------\")\n",
    "# rearranja um conjunto de 15 elementos \n",
    "# mostra a matrizes transposta entre linha e coluna\n",
    "s = r.transpose((1,0))\n",
    "print(s)"
   ]
  },
  {
   "cell_type": "code",
   "execution_count": 20,
   "metadata": {},
   "outputs": [
    {
     "name": "stdout",
     "output_type": "stream",
     "text": [
      "[[-1.05828437  0.34540292  0.51454273 -2.0367983 ]\n",
      " [ 1.04496987  0.01456975 -1.08766657  0.59137307]\n",
      " [-0.33131117 -0.92598255 -1.23164738 -0.10298124]\n",
      " [-0.18519894  0.29603321 -1.43019535  1.41976788]]\n",
      "[[False  True  True False]\n",
      " [ True  True False  True]\n",
      " [False False False False]\n",
      " [False  True False  True]]\n",
      "[[-1  1  1 -1]\n",
      " [ 1  1 -1  1]\n",
      " [-1 -1 -1 -1]\n",
      " [-1  1 -1  1]]\n"
     ]
    }
   ],
   "source": [
    "#Expressões Lógicas - Usando Where - Criando Matriz com Valores aleatórios positivos e negativos\n",
    "v = np.random.randn(4, 4)\n",
    "print(v)\n",
    "# Criando matriz com valores booleanos baseado no array v\n",
    "x = (v > 0)\n",
    "print(x)\n",
    "# Criando matriz com valores -1 e 1 baseado nos valores do array x\n",
    "z = np.where(x > 0, 1, -1)\n",
    "print(z)"
   ]
  }
 ],
 "metadata": {
  "kernelspec": {
   "display_name": "Python 3",
   "language": "python",
   "name": "python3"
  },
  "language_info": {
   "codemirror_mode": {
    "name": "ipython",
    "version": 3
   },
   "file_extension": ".py",
   "mimetype": "text/x-python",
   "name": "python",
   "nbconvert_exporter": "python",
   "pygments_lexer": "ipython3",
   "version": "3.12.4"
  }
 },
 "nbformat": 4,
 "nbformat_minor": 2
}
