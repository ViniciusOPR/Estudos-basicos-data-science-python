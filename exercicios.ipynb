{
 "cells": [
  {
   "cell_type": "markdown",
   "metadata": {},
   "source": [
    "Exércicios\n"
   ]
  },
  {
   "cell_type": "code",
   "execution_count": 5,
   "metadata": {},
   "outputs": [
    {
     "data": {
      "text/plain": [
       "10"
      ]
     },
     "execution_count": 5,
     "metadata": {},
     "output_type": "execute_result"
    }
   ],
   "source": [
    "#Exercício 1\n",
    "\n",
    "def amplitude(lista):\n",
    "    return max(lista) - min(lista)\n",
    "\n",
    "amplitude(lista=[30,40])\n",
    "\n"
   ]
  },
  {
   "cell_type": "code",
   "execution_count": 6,
   "metadata": {},
   "outputs": [
    {
     "name": "stdout",
     "output_type": "stream",
     "text": [
      "b\n",
      "i\n",
      "g\n",
      "d\n",
      "a\n",
      "t\n",
      "a\n"
     ]
    }
   ],
   "source": [
    "#Exercício 2\n",
    "def iterando_string(str):\n",
    "    for i in str:\n",
    "        print(i)\n",
    "\n",
    "iterando_string('bigdata')"
   ]
  },
  {
   "cell_type": "code",
   "execution_count": 11,
   "metadata": {},
   "outputs": [
    {
     "name": "stdout",
     "output_type": "stream",
     "text": [
      "Transporte não aceito\n"
     ]
    }
   ],
   "source": [
    "#Exercicio3\n",
    "peso_carga = int(input('Digite o peso da carga em KG: '))\n",
    "if peso_carga <= 10:\n",
    "    print('O valor do transporte de carga é R$ 50,00')\n",
    "elif peso_carga >= 11 and peso_carga <= 20:\n",
    "    print('O valor do transporte de carga será de R$80,00')\n",
    "else:\n",
    "    print('Transporte não aceito')"
   ]
  }
 ],
 "metadata": {
  "kernelspec": {
   "display_name": "Python 3",
   "language": "python",
   "name": "python3"
  },
  "language_info": {
   "codemirror_mode": {
    "name": "ipython",
    "version": 3
   },
   "file_extension": ".py",
   "mimetype": "text/x-python",
   "name": "python",
   "nbconvert_exporter": "python",
   "pygments_lexer": "ipython3",
   "version": "3.12.4"
  }
 },
 "nbformat": 4,
 "nbformat_minor": 2
}
